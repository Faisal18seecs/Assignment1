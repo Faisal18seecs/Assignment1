{
 "cells": [
  {
   "cell_type": "code",
   "execution_count": 2,
   "metadata": {},
   "outputs": [
    {
     "name": "stdout",
     "output_type": "stream",
     "text": [
      "Twinkle, twinkle, little star,\n",
      "                  How I wonder what you are.\n",
      "                        Up above the world so high.\n",
      "                        Like a diamond in the sky.\n",
      "        Twinkle, twinkle, little star,\n",
      "                 How I wonder what you are\n"
     ]
    }
   ],
   "source": [
    "# Q No. 1\n",
    "print('''Twinkle, twinkle, little star,\n",
    "                  How I wonder what you are.\n",
    "                        Up above the world so high.\n",
    "                        Like a diamond in the sky.\n",
    "        Twinkle, twinkle, little star,\n",
    "                 How I wonder what you are''')"
   ]
  },
  {
   "cell_type": "code",
   "execution_count": 9,
   "metadata": {},
   "outputs": [
    {
     "name": "stdout",
     "output_type": "stream",
     "text": [
      "3.8.5\n"
     ]
    }
   ],
   "source": [
    "# Q No. 2\n",
    "from platform import python_version\n",
    "\n",
    "print(python_version())"
   ]
  },
  {
   "cell_type": "code",
   "execution_count": 14,
   "metadata": {},
   "outputs": [
    {
     "name": "stdout",
     "output_type": "stream",
     "text": [
      "Current date and time:\n",
      "2022-01-01 17:32:44\n"
     ]
    }
   ],
   "source": [
    "# Q No. 3\n",
    "import datetime\n",
    "today = datetime.datetime.now()\n",
    "print (\"Current date and time:\")\n",
    "print (today.strftime(\"%Y-%m-%d %H:%M:%S\"))"
   ]
  },
  {
   "cell_type": "code",
   "execution_count": 15,
   "metadata": {},
   "outputs": [
    {
     "name": "stdout",
     "output_type": "stream",
     "text": [
      "Please Enter the radius of a circle:3\n",
      "Area Of the Circle = 28.26\n"
     ]
    }
   ],
   "source": [
    "# Q No. 4\n",
    "PI = 3.14\n",
    "radius = float(input('Please Enter the radius of a circle:'))\n",
    "\n",
    "diameter = 2*radius\n",
    "circumference = 2*PI*radius\n",
    "area = PI*radius*radius\n",
    "\n",
    "print(\"Area Of the Circle = %.2f\" %area)"
   ]
  },
  {
   "cell_type": "code",
   "execution_count": 20,
   "metadata": {},
   "outputs": [
    {
     "name": "stdout",
     "output_type": "stream",
     "text": [
      "Please Enter your First Name:faisal\n",
      "Please Enter your Last Name:mehmood\n",
      "mehmoodfaisal\n"
     ]
    }
   ],
   "source": [
    "# Q No. 5\n",
    "fname = str(input('Please Enter your First Name:'))\n",
    "lname = str(input('Please Enter your Last Name:'))\n",
    "print(lname+fname)"
   ]
  },
  {
   "cell_type": "code",
   "execution_count": 23,
   "metadata": {},
   "outputs": [
    {
     "name": "stdout",
     "output_type": "stream",
     "text": [
      "Please Enter First integer:5\n",
      "Please Enter Second integer:3\n",
      "8\n"
     ]
    }
   ],
   "source": [
    "# Q No. 6\n",
    "a = int(input('Please Enter First integer:'))\n",
    "b = int(input('Please Enter Second integer:'))\n",
    "c = a+b\n",
    "print(c)"
   ]
  },
  {
   "cell_type": "code",
   "execution_count": null,
   "metadata": {},
   "outputs": [],
   "source": []
  }
 ],
 "metadata": {
  "kernelspec": {
   "display_name": "Python 3 (ipykernel)",
   "language": "python",
   "name": "python3"
  },
  "language_info": {
   "codemirror_mode": {
    "name": "ipython",
    "version": 3
   },
   "file_extension": ".py",
   "mimetype": "text/x-python",
   "name": "python",
   "nbconvert_exporter": "python",
   "pygments_lexer": "ipython3",
   "version": "3.8.5"
  }
 },
 "nbformat": 4,
 "nbformat_minor": 4
}
